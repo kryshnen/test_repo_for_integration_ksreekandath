{
 "metadata": {
  "kernelspec": {
   "display_name": "Streamlit Notebook",
   "name": "streamlit"
  }
 },
 "nbformat_minor": 5,
 "nbformat": 4,
 "cells": [
  {
   "cell_type": "code",
   "id": "3775908f-ca36-4846-8f38-5adca39217f2",
   "metadata": {
    "language": "python",
    "name": "cell1"
   },
   "source": "import @MYCO_DB.INTEGRATIONS.snowflake_extensions/branches/main/python_file.py",
   "execution_count": null,
   "outputs": []
  }
 ]
}